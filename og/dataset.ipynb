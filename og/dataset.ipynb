{
 "cells": [
  {
   "cell_type": "code",
   "execution_count": 1,
   "metadata": {},
   "outputs": [],
   "source": [
    "import os\n",
    "import pandas as pd\n",
    "\n",
    "def generate_csv(image_dir, label_dir, csv_path):\n",
    "    # Get list of image files\n",
    "    image_files = sorted(f for f in os.listdir(image_dir) if f.endswith('.jpg'))\n",
    "    \n",
    "    data = []\n",
    "    for img_file in image_files:\n",
    "        # Image file path\n",
    "        img_path = os.path.join(image_dir, img_file)\n",
    "        \n",
    "        # Corresponding label file path\n",
    "        label_file = img_file.replace('.jpg', '.txt')\n",
    "        label_path = os.path.join(label_dir, label_file)\n",
    "        \n",
    "        data.append([img_path, label_path])\n",
    "    \n",
    "    # Create a DataFrame and save to CSV\n",
    "    df = pd.DataFrame(data, columns=['image', 'label'])\n",
    "    df.to_csv(csv_path, index=False)\n",
    "\n",
    "# Define the paths\n",
    "image_dir = 'images'\n",
    "label_dir = 'labels'\n",
    "csv_path = 'train.csv'\n",
    "\n",
    "# Generate the CSV file\n",
    "generate_csv(image_dir, label_dir, csv_path)\n"
   ]
  }
 ],
 "metadata": {
  "kernelspec": {
   "display_name": "ai",
   "language": "python",
   "name": "python3"
  },
  "language_info": {
   "codemirror_mode": {
    "name": "ipython",
    "version": 3
   },
   "file_extension": ".py",
   "mimetype": "text/x-python",
   "name": "python",
   "nbconvert_exporter": "python",
   "pygments_lexer": "ipython3",
   "version": "3.11.7"
  }
 },
 "nbformat": 4,
 "nbformat_minor": 2
}
